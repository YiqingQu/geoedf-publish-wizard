{
 "cells": [
  {
   "cell_type": "code",
   "execution_count": 1,
   "metadata": {
    "collapsed": false,
    "jupyter": {
     "outputs_hidden": false
    },
    "pycharm": {
     "name": "#%%\n"
    }
   },
   "outputs": [],
   "source": [
    "import os\n",
    "os.environ['JUPYTERHUB_USER'] = 'qu112@purdue.edu'\n",
    "os.environ['JUPYTERHUB_API_TOKEN'] = '5c1392a121b04ff790d4236aa34a98a5'\n"
   ]
  },
  {
   "cell_type": "code",
   "execution_count": 2,
   "metadata": {
    "pycharm": {
     "is_executing": true,
     "name": "#%%\n"
    }
   },
   "outputs": [
    {
     "data": {
      "application/vnd.jupyter.widget-view+json": {
       "model_id": "d9844c151ab1477889642cdfa2a024cb",
       "version_major": 2,
       "version_minor": 0
      },
      "text/plain": [
       "HTML(value='')"
      ]
     },
     "metadata": {},
     "output_type": "display_data"
    },
    {
     "data": {
      "application/vnd.jupyter.widget-view+json": {
       "model_id": "b98665fa3b07444ba85959de03f290ac",
       "version_major": 2,
       "version_minor": 0
      },
      "text/plain": [
       "VBox(children=(HBox(children=(HTML(value='<h2 style=\"margin-bottom: 5px; font-weight: bold; text-align: center…"
      ]
     },
     "metadata": {},
     "output_type": "display_data"
    },
    {
     "data": {
      "application/vnd.jupyter.widget-view+json": {
       "model_id": "7d764ccc50eb486abe28100279c957c3",
       "version_major": 2,
       "version_minor": 0
      },
      "text/plain": [
       "Output()"
      ]
     },
     "metadata": {},
     "output_type": "display_data"
    }
   ],
   "source": [
    "from nb import controller\n",
    "controller.start(True) # Specify debug=True to see log with debug output"
   ]
  },
  {
   "cell_type": "code",
   "execution_count": 3,
   "metadata": {
    "collapsed": false,
    "jupyter": {
     "outputs_hidden": false
    },
    "pycharm": {
     "name": "#%%\n"
    }
   },
   "outputs": [
    {
     "name": "stdout",
     "output_type": "stream",
     "text": [
      "qu112@purdue.edu\n"
     ]
    }
   ],
   "source": [
    "import os\n",
    "username = os.getenv('JUPYTERHUB_USER')\n",
    "print(username)"
   ]
  },
  {
   "cell_type": "code",
   "execution_count": null,
   "metadata": {
    "pycharm": {
     "name": "#%%\n"
    }
   },
   "outputs": [],
   "source": [
    "import os\n",
    "api_token = os.getenv('JUPYTERHUB_API_TOKEN')\n",
    "print(api_token)"
   ]
  },
  {
   "cell_type": "code",
   "execution_count": 4,
   "metadata": {
    "pycharm": {
     "name": "#%%\n"
    }
   },
   "outputs": [
    {
     "name": "stdout",
     "output_type": "stream",
     "text": [
      "[{'title': 'wrfinput_private', 'status': 'SUCCESS', 'state_description': 'Task succeeded', 'completion_date': '2024-01-21T12:08:27', 'modified_time': '2023-11-20T15:55:06.784070Z'}, {'title': 'wrfinput_d0x', 'status': 'SUCCESS', 'state_description': 'Task succeeded', 'completion_date': '2024-01-21T12:08:27', 'modified_time': '2024-02-13T09:21:00.836026Z'}, {'title': 'wrfinput_private', 'status': 'SUCCESS', 'state_description': 'Task succeeded', 'completion_date': '2024-01-21T12:08:27', 'modified_time': '2023-11-20T16:04:59.199852Z'}, {'title': 'wrfinput_d0x', 'status': 'SUCCESS', 'state_description': 'Task succeeded', 'completion_date': '2024-01-21T12:08:27', 'modified_time': '2024-02-13T16:06:43.893581Z'}, {'title': 'wrfinput_d0x', 'status': 'SUCCESS', 'state_description': 'Task succeeded', 'completion_date': '2024-01-21T12:08:27', 'modified_time': '2024-02-13T09:21:57.917844Z'}]\n"
     ]
    }
   ],
   "source": [
    "import os\n",
    "import subprocess\n",
    "from datetime import datetime\n",
    "\n",
    "import requests\n",
    "\n",
    "\n",
    "GEOEDF_PORTAL_API_URL = \"https://geoedf-portal.anvilcloud.rcac.purdue.edu/api\"\n",
    "PAGESIZE = 5\n",
    "\n",
    "def get_resource_list(page=1):\n",
    "    \"\"\"GeoEDF Portal API\"\"\"\n",
    "    # make request to portal\n",
    "    api_token = os.getenv('JUPYTERHUB_API_TOKEN')\n",
    "    # log.debug(f\"api_token = {api_token}\")\n",
    "\n",
    "    if not api_token:\n",
    "        return None\n",
    "\n",
    "    url = f\"{GEOEDF_PORTAL_API_URL}/resource/list-user/\"\n",
    "    headers = {\n",
    "        'Authorization': f'{api_token}',\n",
    "    }\n",
    "    params = {\"page\": page}\n",
    "\n",
    "    response = requests.get(url, headers=headers, params=params)\n",
    "    if response.status_code != 200:\n",
    "        print(f\"Error fetching user resources: {response.status_code}\")\n",
    "        return None, 0, 0\n",
    "\n",
    "    response_json = response.json()\n",
    "    resource_list = response_json['results']['list']\n",
    "    total_resources = response_json['results']['total']\n",
    "    total_pages = total_resources // PAGESIZE + 1\n",
    "\n",
    "    return resource_list, page, total_pages\n",
    "\n",
    "rl, p, t = get_resource_list(1)\n",
    "\n",
    "print(rl)"
   ]
  },
  {
   "cell_type": "code",
   "execution_count": null,
   "metadata": {},
   "outputs": [],
   "source": []
  }
 ],
 "metadata": {
  "interpreter": {
   "hash": "191ca7fecc240fb00d18100eb4629d31663762446682db60bbca5ba89181619b"
  },
  "kernelspec": {
   "display_name": "Python 3 (ipykernel)",
   "language": "python",
   "name": "python3"
  },
  "language_info": {
   "codemirror_mode": {
    "name": "ipython",
    "version": 3
   },
   "file_extension": ".py",
   "mimetype": "text/x-python",
   "name": "python",
   "nbconvert_exporter": "python",
   "pygments_lexer": "ipython3",
   "version": "3.8.18"
  }
 },
 "nbformat": 4,
 "nbformat_minor": 4
}
