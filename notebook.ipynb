{
 "cells": [
  {
   "cell_type": "code",
   "execution_count": 1,
   "metadata": {
    "pycharm": {
     "is_executing": true,
     "name": "#%%\n"
    }
   },
   "outputs": [
    {
     "data": {
      "application/vnd.jupyter.widget-view+json": {
       "model_id": "bb547370d00e44fab7b7fa702208573c",
       "version_major": 2,
       "version_minor": 0
      },
      "text/plain": [
       "HTML(value='')"
      ]
     },
     "metadata": {},
     "output_type": "display_data"
    },
    {
     "ename": "IndexError",
     "evalue": "list assignment index out of range",
     "output_type": "error",
     "traceback": [
      "\u001B[0;31m---------------------------------------------------------------------------\u001B[0m",
      "\u001B[0;31mIndexError\u001B[0m                                Traceback (most recent call last)",
      "Cell \u001B[0;32mIn[1], line 2\u001B[0m\n\u001B[1;32m      1\u001B[0m \u001B[38;5;28;01mfrom\u001B[39;00m \u001B[38;5;21;01mnb\u001B[39;00m \u001B[38;5;28;01mimport\u001B[39;00m controller\n\u001B[0;32m----> 2\u001B[0m \u001B[43mcontroller\u001B[49m\u001B[38;5;241;43m.\u001B[39;49m\u001B[43mstart\u001B[49m\u001B[43m(\u001B[49m\u001B[38;5;28;43;01mTrue\u001B[39;49;00m\u001B[43m)\u001B[49m \u001B[38;5;66;03m# Specify debug=True to see log with debug output\u001B[39;00m\n",
      "File \u001B[0;32m~/PycharmProjects/geoedf-publish-wizard/nb/controller.py:34\u001B[0m, in \u001B[0;36mstart\u001B[0;34m(debug)\u001B[0m\n\u001B[1;32m     32\u001B[0m \u001B[38;5;66;03m# Build UI & data access objects\u001B[39;00m\n\u001B[1;32m     33\u001B[0m model\u001B[38;5;241m.\u001B[39mstart()\n\u001B[0;32m---> 34\u001B[0m \u001B[43mview\u001B[49m\u001B[38;5;241;43m.\u001B[39;49m\u001B[43mstart\u001B[49m\u001B[43m(\u001B[49m\u001B[43mdebug\u001B[49m\u001B[43m,\u001B[49m\u001B[43m \u001B[49m\u001B[43mwhen_upload_completed\u001B[49m\u001B[43m,\u001B[49m\u001B[43m \u001B[49m\u001B[43mctrl\u001B[49m\u001B[38;5;241;43m.\u001B[39;49m\u001B[43muser_projects\u001B[49m\u001B[43m)\u001B[49m\n\u001B[1;32m     36\u001B[0m \u001B[38;5;66;03m# Keep lists of some UI widgets \u001B[39;00m\n\u001B[1;32m     37\u001B[0m \u001B[38;5;66;03m# ctrl.col_ddns = [view.scen_col_ddn, view.reg_col_ddn, view.var_col_ddn, view.item_col_ddn,\u001B[39;00m\n\u001B[1;32m     38\u001B[0m \u001B[38;5;66;03m#                 view.unit_col_ddn, view.year_col_ddn, view.val_col_ddn]\u001B[39;00m\n\u001B[1;32m     39\u001B[0m \u001B[38;5;66;03m# ctrl.plot_ddns = [view.plot_scen_ddn, view.plot_reg_ddn, view.plot_var_ddn]\u001B[39;00m\n\u001B[1;32m     40\u001B[0m \n\u001B[1;32m     41\u001B[0m \u001B[38;5;66;03m# Setup callbacks NOTE uploader's callback set by view\u001B[39;00m\n\u001B[1;32m     42\u001B[0m view\u001B[38;5;241m.\u001B[39mstack\u001B[38;5;241m.\u001B[39mobserve(when_stack_changes, \u001B[38;5;124m'\u001B[39m\u001B[38;5;124mselected_index\u001B[39m\u001B[38;5;124m'\u001B[39m, \u001B[38;5;124m'\u001B[39m\u001B[38;5;124mchange\u001B[39m\u001B[38;5;124m'\u001B[39m)  \u001B[38;5;66;03m# Tabs\u001B[39;00m\n",
      "File \u001B[0;32m~/PycharmProjects/geoedf-publish-wizard/nb/view.py:55\u001B[0m, in \u001B[0;36mstart\u001B[0;34m(show_log, when_upload_completed, user_projects)\u001B[0m\n\u001B[1;32m     53\u001B[0m \u001B[38;5;66;03m# Add title text for each tab\u001B[39;00m\n\u001B[1;32m     54\u001B[0m \u001B[38;5;28;01mfor\u001B[39;00m i, tab_title \u001B[38;5;129;01min\u001B[39;00m \u001B[38;5;28menumerate\u001B[39m(TAB_TITLES):\n\u001B[0;32m---> 55\u001B[0m     \u001B[43mtabs\u001B[49m\u001B[38;5;241;43m.\u001B[39;49m\u001B[43mset_title\u001B[49m\u001B[43m(\u001B[49m\u001B[43mi\u001B[49m\u001B[43m,\u001B[49m\u001B[43m \u001B[49m\u001B[43mtab_title\u001B[49m\u001B[43m)\u001B[49m\n\u001B[1;32m     58\u001B[0m \u001B[38;5;66;03m# view.steps = [\"first\", UPLOAD, SUBMISSION, INTEGRITY, PLAUSIBILITY, FINISH]\u001B[39;00m\n\u001B[1;32m     59\u001B[0m view\u001B[38;5;241m.\u001B[39msteps \u001B[38;5;241m=\u001B[39m [SELECT_FILES, EXTRACT_METADATA, REVIEW_PUBLISH_INFO, PUBLISH, VIEW_PUBLISH_STATUS]\n",
      "File \u001B[0;32m~/anaconda3/envs/nbtmpl/lib/python3.8/site-packages/ipywidgets/widgets/widget_selectioncontainer.py:69\u001B[0m, in \u001B[0;36m_SelectionContainer.set_title\u001B[0;34m(self, index, title)\u001B[0m\n\u001B[1;32m     67\u001B[0m \u001B[38;5;28;01mif\u001B[39;00m title \u001B[38;5;129;01mis\u001B[39;00m \u001B[38;5;28;01mNone\u001B[39;00m:\n\u001B[1;32m     68\u001B[0m     title \u001B[38;5;241m=\u001B[39m \u001B[38;5;124m'\u001B[39m\u001B[38;5;124m'\u001B[39m\n\u001B[0;32m---> 69\u001B[0m \u001B[43mtitles\u001B[49m\u001B[43m[\u001B[49m\u001B[43mindex\u001B[49m\u001B[43m]\u001B[49m\u001B[38;5;241m=\u001B[39mtitle\n\u001B[1;32m     70\u001B[0m \u001B[38;5;28mself\u001B[39m\u001B[38;5;241m.\u001B[39mtitles \u001B[38;5;241m=\u001B[39m \u001B[38;5;28mtuple\u001B[39m(titles)\n",
      "\u001B[0;31mIndexError\u001B[0m: list assignment index out of range"
     ]
    }
   ],
   "source": [
    "from nb import controller\n",
    "controller.start(True) # Specify debug=True to see log with debug output"
   ]
  },
  {
   "cell_type": "code",
   "execution_count": null,
   "metadata": {
    "collapsed": false,
    "jupyter": {
     "outputs_hidden": false
    },
    "pycharm": {
     "name": "#%%\n"
    }
   },
   "outputs": [],
   "source": []
  },
  {
   "cell_type": "code",
   "execution_count": null,
   "metadata": {
    "pycharm": {
     "name": "#%%\n"
    }
   },
   "outputs": [],
   "source": []
  }
 ],
 "metadata": {
  "interpreter": {
   "hash": "191ca7fecc240fb00d18100eb4629d31663762446682db60bbca5ba89181619b"
  },
  "kernelspec": {
   "display_name": "Python 3 (ipykernel)",
   "language": "python",
   "name": "python3"
  },
  "language_info": {
   "codemirror_mode": {
    "name": "ipython",
    "version": 3
   },
   "file_extension": ".py",
   "mimetype": "text/x-python",
   "name": "python",
   "nbconvert_exporter": "python",
   "pygments_lexer": "ipython3",
   "version": "3.8.18"
  }
 },
 "nbformat": 4,
 "nbformat_minor": 4
}