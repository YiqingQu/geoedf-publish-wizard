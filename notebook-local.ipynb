{
 "cells": [
  {
   "cell_type": "code",
   "execution_count": 3,
   "outputs": [
    {
     "name": "stdout",
     "output_type": "stream",
     "text": [
      "qu112@purdue.edu\n"
     ]
    }
   ],
   "source": [
    "import os\n",
    "username = os.getenv('JUPYTERHUB_USER')\n",
    "print(username)"
   ],
   "metadata": {
    "collapsed": false,
    "pycharm": {
     "name": "#%%\n"
    }
   }
  },
  {
   "cell_type": "code",
   "execution_count": 5,
   "outputs": [
    {
     "name": "stdout",
     "output_type": "stream",
     "text": [
      "5c1392a121b04ff790d4236aa34a98a5\n"
     ]
    }
   ],
   "source": [
    "import os\n",
    "api_token = os.getenv('JUPYTERHUB_API_TOKEN')\n",
    "print(api_token)"
   ],
   "metadata": {
    "collapsed": false,
    "pycharm": {
     "name": "#%%\n"
    }
   }
  },
  {
   "cell_type": "code",
   "execution_count": 6,
   "outputs": [
    {
     "name": "stdout",
     "output_type": "stream",
     "text": [
      "[]\n"
     ]
    }
   ],
   "source": [
    "import os\n",
    "import subprocess\n",
    "from datetime import datetime\n",
    "\n",
    "import requests\n",
    "\n",
    "\n",
    "GEOEDF_PORTAL_API_URL = \"https://geoedf-portal.anvilcloud.rcac.purdue.edu/api\"\n",
    "PAGESIZE = 10\n",
    "\n",
    "def get_resource_list(page=1):\n",
    "    \"\"\"GeoEDF Portal API\"\"\"\n",
    "    # make request to portal\n",
    "    api_token = os.getenv('JUPYTERHUB_API_TOKEN')\n",
    "    # log.debug(f\"api_token = {api_token}\")\n",
    "\n",
    "    if not api_token:\n",
    "        return None\n",
    "\n",
    "    url = f\"{GEOEDF_PORTAL_API_URL}/resource/list-user/\"\n",
    "    headers = {\n",
    "        'Authorization': f'{api_token}',\n",
    "    }\n",
    "    params = {\"page\": page}\n",
    "\n",
    "    response = requests.get(url, headers=headers, params=params)\n",
    "    if response.status_code != 200:\n",
    "        print(f\"Error fetching user resources: {response.status_code}\")\n",
    "        return None, 0, 0\n",
    "\n",
    "    response_json = response.json()\n",
    "    resource_list = response_json['results']['list']\n",
    "    total_resources = response_json['results']['total']\n",
    "    total_pages = total_resources // PAGESIZE + 1\n",
    "\n",
    "    return resource_list, page, total_pages\n",
    "\n",
    "rl, p, t = get_resource_list(1)\n",
    "\n",
    "print(rl)"
   ],
   "metadata": {
    "collapsed": false,
    "pycharm": {
     "name": "#%%\n"
    }
   }
  },
  {
   "cell_type": "code",
   "execution_count": null,
   "outputs": [],
   "source": [],
   "metadata": {
    "collapsed": false,
    "pycharm": {
     "name": "#%%\n"
    }
   }
  }
 ],
 "metadata": {
  "kernelspec": {
   "display_name": "Python 3",
   "language": "python",
   "name": "python3"
  },
  "language_info": {
   "codemirror_mode": {
    "name": "ipython",
    "version": 2
   },
   "file_extension": ".py",
   "mimetype": "text/x-python",
   "name": "python",
   "nbconvert_exporter": "python",
   "pygments_lexer": "ipython2",
   "version": "2.7.6"
  }
 },
 "nbformat": 4,
 "nbformat_minor": 0
}